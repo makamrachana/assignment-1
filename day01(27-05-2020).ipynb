{
 "cells": [
  {
   "cell_type": "markdown",
   "metadata": {},
   "source": [
    "# python programming\n",
    "## python programming\n",
    "### python programming\n",
    "#### python programming\n",
    "##### python programming\n",
    "###### python programming\n",
    "\n",
    "\n"
   ]
  },
  {
   "cell_type": "markdown",
   "metadata": {},
   "source": [
    "2. ordered and unordered list\n",
    "### list of programming languages:(ordered list)\n",
    "1) python\n",
    "2) java\n",
    "3) c\n",
    "4) c++\n",
    "5) .NET"
   ]
  },
  {
   "cell_type": "markdown",
   "metadata": {},
   "source": [
    "### list of programming languages:(unordered list)\n",
    "- python\n",
    "- java\n",
    "- c\n",
    "- c++\n",
    "- .NET"
   ]
  },
  {
   "cell_type": "markdown",
   "metadata": {},
   "source": [
    "3. - **python programming** #for Bold\n",
    "   - *python programming* #for italics"
   ]
  },
  {
   "cell_type": "markdown",
   "metadata": {},
   "source": [
    "4. #linking URL:\n",
    "[click here](https//:)"
   ]
  },
  {
   "cell_type": "markdown",
   "metadata": {},
   "source": [
    "5.   inserting an image:\n",
    "![image](https://www.google.com/url?sa=i&url=https%3A%2F%2Fwww.wikihow.com%2FStart-Programming-in-Python&psig=AOvVaw0L7T7fwVXJselZLDYdXYL_&ust=1590765405842000&source=images&cd=vfe&ved=0CAIQjRxqFwoTCMiUy4vt1ukCFQAAAAAdAAAAABAD)\n",
    "<img scr=\"https://cdn.pixabay.com/photo/2015/04/23/22/00/tree-736885___340.jpg\"width=200 height=200>"
   ]
  },
  {
   "cell_type": "markdown",
   "metadata": {},
   "source": [
    "Numeric Data types:\n",
    "1. int\n",
    "2. float\n",
    "3. Complex\n"
   ]
  },
  {
   "cell_type": "code",
   "execution_count": 1,
   "metadata": {},
   "outputs": [
    {
     "name": "stdout",
     "output_type": "stream",
     "text": [
      "<class 'int'> <class 'float'> <class 'complex'>\n"
     ]
    }
   ],
   "source": [
    "\n",
    "a = 10 #integer\n",
    "b = 23.34 #float\n",
    "c = 12+3j #Complex number\n",
    "print(type(a),type(b),type(c))\n",
    "\n"
   ]
  },
  {
   "cell_type": "markdown",
   "metadata": {},
   "source": [
    "\n",
    "1. different pradigms\n",
    "2. interpreted pl\n",
    "3. open source\n",
    "4. object oriented pl"
   ]
  },
  {
   "cell_type": "code",
   "execution_count": 2,
   "metadata": {},
   "outputs": [
    {
     "name": "stdout",
     "output_type": "stream",
     "text": [
      "(10+13j)\n",
      "6.0\n",
      "8.0\n"
     ]
    }
   ],
   "source": [
    "c1 = 4+5j\n",
    "c2 = complex(6,8)\n",
    "print(c1+c2)\n",
    "print(c2.real)#real part of the complex number\n",
    "print(c2.imag)#imaginary part of the complex number\n"
   ]
  },
  {
   "cell_type": "code",
   "execution_count": 3,
   "metadata": {},
   "outputs": [
    {
     "name": "stdout",
     "output_type": "stream",
     "text": [
      "Enter the value of a2\n",
      "Enter the value of b4\n",
      "6 -2,8,0.5\n"
     ]
    }
   ],
   "source": [
    "#input --> input()\n",
    "#output --> print()\n",
    "a = int(input(\"Enter the value of a\"))\n",
    "b = int(input(\"Enter the value of b\"))\n",
    "#end-->new line\n",
    "#sep -->space\n",
    "print(a+b,end=\" \")\n",
    "print(a-b,a*b,a/b,sep=\",\")\n"
   ]
  },
  {
   "cell_type": "markdown",
   "metadata": {},
   "source": [
    "Operators:Operators are symbols which performs some specific task\n",
    "Operands : values given to operator are known as operands\n",
    "\n"
   ]
  },
  {
   "cell_type": "code",
   "execution_count": 7,
   "metadata": {},
   "outputs": [
    {
     "name": "stdout",
     "output_type": "stream",
     "text": [
      "enter a value2\n",
      "enter b value7\n",
      "9\n",
      "-5\n",
      "14\n",
      "0.2857142857142857\n",
      "2\n",
      "0\n",
      "128\n"
     ]
    }
   ],
   "source": [
    "#Operators: symbols which performs some specific \n",
    "#Operands : values given to operator are known as operands\n",
    "#Arithmetic operators:+,-,*,/,%,//(floor division),**(exponetationl)\n",
    "\n",
    "a = int(input(\"enter a value\"))\n",
    "b = int(input(\"enter b value\"))\n",
    "print(a + b)\n",
    "print(a - b)\n",
    "print(a * b)\n",
    "print(a / b)#float quotient\n",
    "print(a % b)#Remainder\n",
    "print(a // b)#int quotient\n",
    "print(a ** b)# 2 5\n"
   ]
  },
  {
   "cell_type": "code",
   "execution_count": 8,
   "metadata": {},
   "outputs": [
    {
     "name": "stdout",
     "output_type": "stream",
     "text": [
      "True\n",
      "False\n",
      "True\n",
      "False\n",
      "False\n",
      "True\n"
     ]
    }
   ],
   "source": [
    "\n",
    "#Relational operators: <,>,<=,>=,==,!=\n",
    "\n",
    "\n",
    "print(a < b)#True\n",
    "print(a > b)\n",
    "print(a <= b)\n",
    "print(a >= b)\n",
    "print(a == b)\n",
    "print(a != b)\n"
   ]
  },
  {
   "cell_type": "code",
   "execution_count": 9,
   "metadata": {},
   "outputs": [
    {
     "name": "stdout",
     "output_type": "stream",
     "text": [
      "True\n",
      "True\n",
      "False\n"
     ]
    }
   ],
   "source": [
    "#Logical operators:and,or,not -->return type - Boolean\n",
    "#print(help(\"keywords\"))\n",
    "\n",
    "print(a < b and a>1)\n",
    "print(a < b or a>1)\n",
    "print(not a < b)\n",
    "\n"
   ]
  },
  {
   "cell_type": "code",
   "execution_count": 11,
   "metadata": {},
   "outputs": [
    {
     "name": "stdout",
     "output_type": "stream",
     "text": [
      "True\n",
      "False\n",
      "False\n",
      "True\n"
     ]
    }
   ],
   "source": [
    "#Membership operators :in,not in-->used in for loop\n",
    "\n",
    "\n",
    "list1 = [12,23,34,45,56,67]\n",
    "print(12 in list1)#True\n",
    "print(120 in list1)#False\n",
    "print(12 not in list1)#False\n",
    "print(120 not in list1)#True\n",
    "\n"
   ]
  },
  {
   "cell_type": "code",
   "execution_count": 12,
   "metadata": {},
   "outputs": [
    {
     "name": "stdout",
     "output_type": "stream",
     "text": [
      "a is less than b\n"
     ]
    }
   ],
   "source": [
    "\n",
    "#Conditional statements:if,else,elif\n",
    "\n",
    "\n",
    "\n",
    "if a < b:\n",
    "    print(\"a is less than b\")\n",
    "elif a > b:4\n",
    "    \n",
    "    print(\"a is greater than b\")\n",
    "else:\n",
    "    print(\"a or equals to b\")\n"
   ]
  },
  {
   "cell_type": "code",
   "execution_count": 13,
   "metadata": {},
   "outputs": [
    {
     "name": "stdout",
     "output_type": "stream",
     "text": [
      "enter a value4\n",
      "enter b value6\n",
      "enter c value7\n",
      "largest number is c: 7\n"
     ]
    }
   ],
   "source": [
    "#Question : Find the largest of three numbers \n",
    "a = int(input(\"enter a value\"))\n",
    "b = int(input(\"enter b value\"))\n",
    "c = int(input(\"enter c value\"))\n",
    "if a>b and a>c:\n",
    "    print(\"largest number is a:\",a)\n",
    "elif b>c:\n",
    "    print(\"largest number is b:\",b)\n",
    "else:\n",
    "    print(\"largest number is c:\",c)\n",
    "\n"
   ]
  },
  {
   "cell_type": "code",
   "execution_count": 18,
   "metadata": {},
   "outputs": [
    {
     "name": "stdout",
     "output_type": "stream",
     "text": [
      "enter n value1\n",
      "1 "
     ]
    }
   ],
   "source": [
    "#Loops : while,for\n",
    "\n",
    "#print 1 to n values\n",
    "\n",
    "n = int(input(\"enter n value\"))\n",
    "i = 1\n",
    "while i<=n:\n",
    "    print(i,end=\" \")\n",
    "    i += 1#i=i+1\n",
    "\n"
   ]
  },
  {
   "cell_type": "code",
   "execution_count": 20,
   "metadata": {},
   "outputs": [
    {
     "ename": "IndentationError",
     "evalue": "unindent does not match any outer indentation level (<tokenize>, line 9)",
     "output_type": "error",
     "traceback": [
      "\u001b[1;36m  File \u001b[1;32m\"<tokenize>\"\u001b[1;36m, line \u001b[1;32m9\u001b[0m\n\u001b[1;33m    print(S)\u001b[0m\n\u001b[1;37m    ^\u001b[0m\n\u001b[1;31mIndentationError\u001b[0m\u001b[1;31m:\u001b[0m unindent does not match any outer indentation level\n"
     ]
    }
   ],
   "source": []
  },
  {
   "cell_type": "code",
   "execution_count": null,
   "metadata": {},
   "outputs": [],
   "source": []
  }
 ],
 "metadata": {
  "kernelspec": {
   "display_name": "Python 3",
   "language": "python",
   "name": "python3"
  },
  "language_info": {
   "codemirror_mode": {
    "name": "ipython",
    "version": 3
   },
   "file_extension": ".py",
   "mimetype": "text/x-python",
   "name": "python",
   "nbconvert_exporter": "python",
   "pygments_lexer": "ipython3",
   "version": "3.7.6"
  }
 },
 "nbformat": 4,
 "nbformat_minor": 4
}
